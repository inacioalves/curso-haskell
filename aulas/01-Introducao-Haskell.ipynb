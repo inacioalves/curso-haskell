{
 "cells": [
  {
   "cell_type": "markdown",
   "metadata": {
    "slideshow": {
     "slide_type": "slide"
    }
   },
   "source": [
    "# Introdução ao\n",
    "\n",
    "\n",
    "![](https://www.haskell.org/img/haskell-logo.svg)"
   ]
  },
  {
   "cell_type": "markdown",
   "metadata": {
    "slideshow": {
     "slide_type": "slide"
    },
    "tags": []
   },
   "source": [
    "# Funções"
   ]
  },
  {
   "cell_type": "markdown",
   "metadata": {},
   "source": [
    "Em matemática, uma função é uma regra que relaciona elementos de dois conjuntos $A$ e $B$. Em outras palavras, é uma maneira de mapear valores de entrada em valores de saída.\n",
    "\n",
    "Por exemplo, poderíamos ter a seguinte regra:\n",
    "$$1\\mapsto1$$\n",
    "$$2\\mapsto4$$\n",
    "$$3\\mapsto9$$\n",
    "$$4\\mapsto16$$\n",
    "$$5\\mapsto25$$\n",
    "$$6\\mapsto36$$\n",
    "$$7\\mapsto49$$\n",
    "$$\\cdots$$"
   ]
  },
  {
   "cell_type": "markdown",
   "metadata": {
    "vscode": {
     "languageId": "plaintext"
    }
   },
   "source": [
    "Obviamente, seria impossível listar todos os valores. Porém, é fácil notar um padrão (a matemática e a computação são cheia de padrões). Portanto, podemos escrever uma única expressão:\n",
    "\n",
    "$$x\\mapsto x^2$$\n",
    "\n",
    "Perceba que não faria diferença se tivéssemos escrito a expressão usando $y$ em vez de $x$, como abaixo:\n",
    "\n",
    "$$y\\mapsto y^2$$\n",
    "\n",
    "ou ainda uma estrela como em:\n",
    "\n",
    "$$\\star\\mapsto\\star^2.$$\n",
    "\n",
    "Só para dar um nome (coisa que matemáticos gostam de fazer), dizemos que essas expressões são $\\alpha$-equivalentes. Isso significa que mudar a variável não altera o significado da função.\n",
    "\n",
    "O processo de mudar o nome da variável é chamado de **conversão $\\alpha$**."
   ]
  },
  {
   "cell_type": "markdown",
   "metadata": {},
   "source": [
    "# Cálculo Lambda ($\\lambda$-Calculus)\n",
    "\n",
    "Com a finalidade de formalizar a teoria de funções, Alonzo Church criou o Cálculo Lambda. A expressão acima se torna\n",
    "$$\\lambda x.x^2$$\n",
    "\n",
    "Mais geralmente, uma **_abstração lambda_** possui o formato abaixo:\n",
    "$$\\lambda x.E$$\n",
    "em que:\n",
    "\n",
    "- $x$ representa o valor de entrada.\n",
    "- $E$ representa o resultado, o valor de saída.\n",
    "\n",
    "$E$ é uma expressão que pode envolver ou não $x$.\n",
    "\n",
    "Note que apenas adicionamos a letra grega lambda ($\\lambda$) e substituímos a seta por um ponto na expressão que representa a função."
   ]
  },
  {
   "cell_type": "markdown",
   "metadata": {},
   "source": [
    "### Usando abstrações lambda\n",
    "\n",
    "Suponha que temos uma regra de uma função $x\\mapsto x^2$. A regra sozinha não produz qualquer resultado.\n",
    "Para termos um resultado concreto, precisamos substituir $x$ por um número.\n",
    "\n",
    "Com uma abstração lambda é a mesma coisa. O fato de termos uma abstração como\n",
    "$$\\lambda x.x^2$$\n",
    "não produz absolutamente nada. Para que a função faça algo útil, precisamos informar um valor ao qual aplicaremos a função, algo como:\n",
    "$$(\\lambda x.x^2)\\ \\ 5$$\n",
    "\n",
    "Isso significa que devemos remover a parte $\\lambda x$ e substituir a letra $x$ do lado esquerdo do ponto pelo valor $5$. Assim, teremos:\n",
    "$$(\\lambda x.x^2)\\ \\ 5 \\rightarrow 5^2 = 25$$\n",
    "\n",
    "Esse processo de substituir uma variável por um valor, nós chamamos de **redução $\\beta$**.\n",
    "\n",
    "É comum denotarmos a aplicação de um valor $N$ em uma expressão $\\lambda$ como abaixo:\n",
    "$$(\\lambda x.M)\\ \\ N \\rightarrow_{\\beta} M[N/x]$$\n",
    "indicando que substituímos $x$ por $N$ em todos os lugares que $x$ aparece na expressão $M$."
   ]
  },
  {
   "cell_type": "markdown",
   "metadata": {},
   "source": [
    "<div class=\"alert alert-block alert-info\">\n",
    "<b>Observação:</b> Obviamente, se $x$ não aparece em $M$, não haverá substituição.\n",
    "</div>"
   ]
  },
  {
   "cell_type": "markdown",
   "metadata": {},
   "source": [
    "Em Haskell, podemos descrever uma função lambda usando uma \\, seguida de uma variável, uma seta (->) e a expressão resultante. Veja os exemplos abaixo:\n",
    "```Haskell\n",
    "\\x -> x + 1\n",
    "\\y -> y^2 - 2*y + 1\n",
    "```\n",
    "\n",
    "Para calcular uma expressão lambda, devemos fornecer um valor para a variável como abaixo:\n",
    "```Haskell\n",
    "(\\x -> x + 1 ) 5\n",
    "(\\y -> y^2 - 2*y + 1) 8\n",
    "```\n",
    "Experimente abaixo e veja o resultado."
   ]
  },
  {
   "cell_type": "code",
   "execution_count": null,
   "metadata": {},
   "outputs": [],
   "source": [
    "(\\x -> x + 1) 5"
   ]
  },
  {
   "cell_type": "code",
   "execution_count": null,
   "metadata": {},
   "outputs": [],
   "source": [
    "(\\y -> y^2 - 2*y + 1) 8"
   ]
  },
  {
   "cell_type": "markdown",
   "metadata": {},
   "source": [
    "### Funções de várias variáveis\n",
    "\n",
    "Talvez você tenha percebido que as funções de exemplo acima possuem apenas uma variável. De fato, em cálculo lambda, toda função tem apenas uma variável.\n",
    "No entanto, é possível construir funções que tem como resultado outra função em vez de um valor específico e essa função resultante depende de outra variável. Com esse artifício, podemos construir funções com um número arbitrário de variáveis.\n",
    "\n",
    "Vejamos alguns exemplos:\n",
    "$$\\lambda x.\\lambda y.x\\ +\\ y$$\n",
    "$$\\lambda a.\\lambda b.\\lambda c.a^2\\ +\\ b^b\\ +\\ c^2$$\n",
    "\n",
    "Em Haskell, os equivalentes dessas funções seriam:\n",
    "```Haskell\n",
    "\\x -> \\y -> x + y = \\x -> (\\y -> x + y)\n",
    "\\a -> \\b -> \\c -> a^2 + b^2 + c^2 = \\a -> (\\b -> (\\c -> a^2 + b^2 + c^2))\n",
    "```\n",
    "os parênteses servem para deixar claro que temos uma função que espera um valor e tem como resultado uma outra função.\n",
    "\n",
    "Por exemplo, no primeiro caso, se fornecermo o valor 5 para a função, teremos:\n",
    "```Haskell\n",
    "(\\x -> \\y -> x + y) 5 = \\y -> 5 + y\n",
    "```\n",
    "que é uma função de $y$.\n",
    "\n",
    "De maneira semelhante, se informarmos o valor $8$ para a segunda função teremos:\n",
    "```Haskell\n",
    "(\\a -> \\b -> \\c -> a^2 + b^2 + c^2) 8 = \\b -> \\c -> 8^2 + b^2 + c^2\n",
    "```\n",
    "que é uma função de $b$ e $c$."
   ]
  },
  {
   "cell_type": "markdown",
   "metadata": {},
   "source": [
    "### Simplificando a escrita\n",
    "\n",
    "Em vez de escrevermos\n",
    "$$\\lambda\\ x.\\lambda\\ y\\ .\\ x\\ +\\ y$$\n",
    "podemos escrever\n",
    "$$\\lambda\\ x\\ y\\ .\\ x\\ +\\ y$$\n",
    "\n",
    "Do mesmo modo, em Haskell, podemos escrever\n",
    "```Haskell\n",
    "\\x y -> x + y\n",
    "```\n",
    "em vez de\n",
    "```Haskell\n",
    "\\x -> \\y -> x + y\n",
    "```\n",
    "\n",
    "O que deixa as expressões mais legíveis, tanto em cálculo lambda quanto em Haskell."
   ]
  },
  {
   "cell_type": "markdown",
   "metadata": {},
   "source": [
    "## Funções de alta ordem\n",
    "\n",
    "Como vimos acima, existem funções que o resultado é uma nova função.\n",
    "\n",
    "O interessante é que também podemos usar funções como entrada para outras funções 😮.\n",
    "\n",
    "Funções que resultam em novas funções ou que recebem outras como entradas, nós chamamos de **_funções de alta ordem_**.\n",
    "\n",
    "\n",
    "Veja os exemplos a seguir.\n",
    "Para simplificar, vamos \"dar nomes às funções\"."
   ]
  },
  {
   "cell_type": "markdown",
   "metadata": {},
   "source": [
    "Vamos definir as seguintes funções:\n",
    "- $V\\ =\\ \\lambda\\ x\\ y\\ . x$\n",
    "- $F\\ =\\ \\lambda\\ x\\ y\\ . y$\n",
    "- $S\\ =\\ \\lambda\\ b\\ x\\ y\\ . \\ b\\ x\\ y$\n",
    "\n",
    "Suas equivalentes em Haskell são:\n",
    "```Haskell\n",
    "v = \\x y -> x\n",
    "f = \\x y -> y\n",
    "s = T = \\b x y -> b x y\n",
    "```\n",
    "\n",
    "- O que essas funções fazem?\n",
    "Simples, a função $V$ espera dois valores e retorna o primeiro. A função $F$ espera dois valores e retorna o segundo. Confira você mesmo executando as células abaixo:"
   ]
  },
  {
   "cell_type": "code",
   "execution_count": null,
   "metadata": {},
   "outputs": [],
   "source": [
    "-- Definição das funções\n",
    "v = \\x y -> x\n",
    "f = \\x y -> y\n",
    "s = \\b x y -> b x y"
   ]
  },
  {
   "cell_type": "markdown",
   "metadata": {},
   "source": [
    "A propósito, dois sinais de menos definem comentários de uma linha em Haskell.\n",
    "\n",
    "Para testar as funções acima, devemos fornecer valores para elas.\n",
    "\n",
    "Portanto, execute as células a seguir e avalie os resultados."
   ]
  },
  {
   "cell_type": "code",
   "execution_count": null,
   "metadata": {},
   "outputs": [],
   "source": [
    "v 2 3"
   ]
  },
  {
   "cell_type": "code",
   "execution_count": null,
   "metadata": {},
   "outputs": [],
   "source": [
    "v 8 42"
   ]
  },
  {
   "cell_type": "code",
   "execution_count": null,
   "metadata": {},
   "outputs": [],
   "source": [
    "f 3 5"
   ]
  },
  {
   "cell_type": "code",
   "execution_count": null,
   "metadata": {},
   "outputs": [],
   "source": [
    "f 20 40"
   ]
  },
  {
   "cell_type": "markdown",
   "metadata": {},
   "source": [
    "- Mas e a função $S$?\n",
    "- O que ocorrerá se passarmos a função $V$ como primeira entrada para a função S?\n",
    "- E o que ocorrerá se passarmos $F$ para $S$?"
   ]
  },
  {
   "cell_type": "markdown",
   "metadata": {},
   "source": [
    "### Substituindo $b$ por $V$\n",
    "\n",
    "Vejamos primeiro as duas últimas perguntas:\n",
    "\n",
    "$(\\lambda\\ b\\ x\\ y\\ . \\ b\\ x\\ y)\\ \\ \\ (\\lambda\\ x\\ y\\ . x)$\n",
    "\n",
    "- Como as variáveis $x$ e $y$ aparecem nas duas funções lambda, devemos substituir as variáveis em uma das funções.\n",
    "\n",
    "\n",
    "Façamos isso na função $V$ e ficaremos com:\n",
    "\n",
    "$(\\lambda\\ b\\ x\\ y\\ . \\ b\\ x\\ y)\\ \\ \\ (\\lambda\\ r\\ s\\ . r)$.\n",
    "\n",
    "- Agora, aplicando a redução $\\beta$ e substituindo $b$ pela expressão de $V$ ficamos com:\n",
    "\n",
    "$\\lambda\\ x\\ y\\ . ((\\lambda\\ r\\ s\\ . r)\\ \\ \\ x\\ y)$\n",
    "\n",
    "- Note que o corpo da função é outra função $(\\lambda\\ r\\ s\\ . r)\\ \\ x\\ y$. Substituindo $r$ por $x$ ficamos com:\n",
    "\n",
    "$(\\lambda\\ s\\ . x)\\ \\ y$\n",
    "\n",
    "Mais uma vez temos uma função. Dessa vez uma função de $s$ em que $s$ não aparece no corpo da função. Em outras palavras, a função não depende de $s$ e seu resultado será $x$.\n",
    "\n",
    "Em resumo:\n",
    "$$(\\lambda\\ b\\ x\\ y\\ . \\ b\\ x\\ y)\\ \\ \\ (\\lambda\\ x\\ y\\ . x) = \\lambda\\ x\\ y\\ .\\ x$$"
   ]
  },
  {
   "cell_type": "markdown",
   "metadata": {},
   "source": [
    "### Substituindo $b$ por $F$\n",
    "\n",
    "$(\\lambda\\ b\\ x\\ y\\ . \\ b\\ x\\ y)\\ \\ \\ (\\lambda\\ x\\ y\\ . y)$\n",
    "\n",
    "- Como as variáveis $x$ e $y$ aparecem nas duas funções lambda, devemos substituir as variáveis em uma das funções.\n",
    "\n",
    "\n",
    "Façamos isso na função $V$ e ficaremos com:\n",
    "\n",
    "$(\\lambda\\ b\\ x\\ y\\ . \\ b\\ x\\ y)\\ \\ \\ (\\lambda\\ r\\ s\\ . y)$.\n",
    "\n",
    "- Agora, aplicando a redução $\\beta$ e substituindo $b$ pela expressão de $V$ ficamos com:\n",
    "\n",
    "$\\lambda\\ x\\ y\\ . ((\\lambda\\ r\\ s\\ . s)\\ \\ \\ x\\ y)$\n",
    "\n",
    "- Note que o corpo da função é outra função $(\\lambda\\ r\\ s\\ . s)\\ \\ x\\ y$. Substituindo $r$ por $x$ ficamos com:\n",
    "\n",
    "$(\\lambda\\ s\\ . y)\\ \\ y = y$\n",
    "\n",
    "Em resumo:\n",
    "$$(\\lambda\\ b\\ x\\ y\\ . \\ b\\ x\\ y)\\ \\ \\ (\\lambda\\ x\\ y\\ . x) = \\lambda\\ x\\ y\\ .\\ y$$"
   ]
  },
  {
   "cell_type": "markdown",
   "metadata": {},
   "source": [
    "### O que aconteceu?\n",
    "\n",
    "Note que quando substituímos $b$ por $V$, o resultado de $V\\ x\\ y$ foi $x$.\n",
    "\n",
    "Por outro lado, quando substituímos $b$ por $F$, o resultado de $F\\ x\\ y$ foi $y$.\n",
    "\n",
    "Esses comportamentos tornam as funções $V$, $F$ e $S$ semelhantes aos valores _Verdadeiro_, _Falso_ e _SE ... ENTÂO ... SENÃO ..._.\n",
    "\n",
    "Ou seja, _SE b ENTÃO x SENÃO y_.\n",
    "- Quando substituímos $b$ por $V$, o resultado é $x$ (ENTÂO).\n",
    "- Quando substituímos $b$ por $F$, o resultado é $y$ (SENÂO)."
   ]
  },
  {
   "cell_type": "markdown",
   "metadata": {},
   "source": [
    "### Duvida?\n",
    "\n",
    "Então teste os exemplos abaixo:"
   ]
  },
  {
   "cell_type": "code",
   "execution_count": null,
   "metadata": {},
   "outputs": [],
   "source": [
    "s v 2 3 -- se VERDADEIRO então 2 senão 3"
   ]
  },
  {
   "cell_type": "code",
   "execution_count": null,
   "metadata": {},
   "outputs": [],
   "source": [
    "s v 5 42 -- se VERDADEIRO então 5 senão 42"
   ]
  },
  {
   "cell_type": "code",
   "execution_count": null,
   "metadata": {},
   "outputs": [],
   "source": [
    "s f 2 3 -- se FALSO então 2 senão 3"
   ]
  },
  {
   "cell_type": "code",
   "execution_count": null,
   "metadata": {},
   "outputs": [],
   "source": [
    "s f 5 42 -- se FALSO então 5 senão 42"
   ]
  },
  {
   "cell_type": "markdown",
   "metadata": {},
   "source": [
    "<div class=\"alert alert-block alert-info\">\n",
    "<b>Observação:</b> Para deixar bem claro: 'v', 'f' e 's' são funções. Além disso, passamos tanto 'v' quanto 'f' como primeiro parâmetro para 's'.\n",
    "</div>"
   ]
  },
  {
   "cell_type": "code",
   "execution_count": null,
   "metadata": {},
   "outputs": [],
   "source": []
  }
 ],
 "metadata": {
  "celltoolbar": "Slideshow",
  "kernelspec": {
   "display_name": "Haskell",
   "language": "haskell",
   "name": "haskell"
  },
  "language_info": {
   "codemirror_mode": "ihaskell",
   "file_extension": ".hs",
   "mimetype": "text/x-haskell",
   "name": "haskell",
   "pygments_lexer": "Haskell",
   "version": "8.10.7"
  },
  "rise": {
   "enable_chalkboard": true,
   "header": "<img style=\"position: relative; left: 1230px; width: 200px; top: 10px;\" src=\"https://raw.githubusercontent.com/rober-m/haskell-bootcamp/main/images/input-output.svg\"/>"
  }
 },
 "nbformat": 4,
 "nbformat_minor": 4
}
